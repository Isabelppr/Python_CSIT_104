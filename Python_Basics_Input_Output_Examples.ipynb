{
 "cells": [
  {
   "cell_type": "markdown",
   "id": "37ea35ed",
   "metadata": {},
   "source": [
    "# Python Basics: Input and Output Examples"
   ]
  },
  {
   "cell_type": "markdown",
   "id": "83f55bef",
   "metadata": {},
   "source": [
    "### Example 1: Basic Text Output"
   ]
  },
  {
   "cell_type": "code",
   "execution_count": null,
   "id": "e18d2749",
   "metadata": {},
   "outputs": [],
   "source": [
    "print('Hello there.')\n",
    "print('My name is...')\n",
    "print('Carl?')"
   ]
  },
  {
   "cell_type": "markdown",
   "id": "3ef70f14",
   "metadata": {},
   "source": [
    "### Example 2: Printing Variables and Multiple Values"
   ]
  },
  {
   "cell_type": "code",
   "execution_count": null,
   "id": "ac861b02",
   "metadata": {},
   "outputs": [],
   "source": [
    "wage = 400\n",
    "print('Your daily wage is $', wage)\n",
    "\n",
    "weekly_wage = 2000\n",
    "print('$', wage, 'per day is $', weekly_wage, 'per week')"
   ]
  },
  {
   "cell_type": "markdown",
   "id": "3bea8ad0",
   "metadata": {},
   "source": [
    "### Example 3: Keeping Output on the Same Line"
   ]
  },
  {
   "cell_type": "code",
   "execution_count": null,
   "id": "2121664e",
   "metadata": {},
   "outputs": [],
   "source": [
    "print('Hello there.', end=' ')\n",
    "print('My name is...', end=' ')\n",
    "print('Carl?')"
   ]
  },
  {
   "cell_type": "markdown",
   "id": "4eb54653",
   "metadata": {},
   "source": [
    "### Example 4: Using Newline Characters"
   ]
  },
  {
   "cell_type": "code",
   "execution_count": null,
   "id": "ddc40a90",
   "metadata": {},
   "outputs": [],
   "source": [
    "print('Name\\tJob\\n------------------')\n",
    "print('Ann\\tDeveloper\\nJoe\\tInfluencer')"
   ]
  },
  {
   "cell_type": "markdown",
   "id": "f4153470",
   "metadata": {},
   "source": [
    "### Example 5: Basic Input"
   ]
  },
  {
   "cell_type": "code",
   "execution_count": null,
   "id": "2bad0a28",
   "metadata": {},
   "outputs": [],
   "source": [
    "print('Enter the name of your best friend:', end=' ')\n",
    "best_friend = input()\n",
    "print('My best friend is', best_friend)"
   ]
  },
  {
   "cell_type": "markdown",
   "id": "faa473dc",
   "metadata": {},
   "source": [
    "### Example 6: Converting Input to Integers"
   ]
  },
  {
   "cell_type": "code",
   "execution_count": null,
   "id": "4fea0985",
   "metadata": {},
   "outputs": [],
   "source": [
    "print('Enter wage:', end=' ')\n",
    "wage = int(input())  # Convert input string to an integer\n",
    "new_wage = wage + 10\n",
    "print('New wage:', new_wage)"
   ]
  },
  {
   "cell_type": "markdown",
   "id": "3be51e00",
   "metadata": {},
   "source": [
    "### Example 7: Input Prompt"
   ]
  },
  {
   "cell_type": "code",
   "execution_count": null,
   "id": "617264ef",
   "metadata": {},
   "outputs": [],
   "source": [
    "hourly_wage = int(input('Enter hourly wage: '))\n",
    "print('Salary is', hourly_wage * 40 * 52)"
   ]
  },
  {
   "cell_type": "markdown",
   "id": "c7c64b70",
   "metadata": {},
   "source": [
    "### Example 8: Output an Eight with Asterisks"
   ]
  },
  {
   "cell_type": "code",
   "execution_count": null,
   "id": "5ad43b2d",
   "metadata": {},
   "outputs": [],
   "source": [
    "print('*****')\n",
    "print('*   *')\n",
    "print('*****')\n",
    "print('*   *')\n",
    "print('*****')"
   ]
  },
  {
   "cell_type": "markdown",
   "id": "0e97cc45",
   "metadata": {},
   "source": [
    "### Example 9: Reading Multiple Inputs"
   ]
  },
  {
   "cell_type": "code",
   "execution_count": null,
   "id": "a3d21a86",
   "metadata": {},
   "outputs": [],
   "source": [
    "x = input('Enter the first value: ')\n",
    "y = input('Enter the second value: ')\n",
    "print('You entered:', x, 'and', y)"
   ]
  }
 ],
 "metadata": {},
 "nbformat": 4,
 "nbformat_minor": 5
}
